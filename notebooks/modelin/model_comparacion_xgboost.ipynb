{
 "cells": [
  {
   "cell_type": "markdown",
   "id": "e2552d90",
   "metadata": {},
   "source": [
    "Aquí tienes el **CUADRO DATOS REALES** con tus métricas reales, siguiendo el formato solicitado:\n",
    "\n",
    "---\n",
    "\n",
    "## CUADRO DATOS REALES ( Graficar distribución de clases: 0 = No tóxico, 1 = Tóxico )\n",
    "\n",
    "### MÉTRICAS ANTES DE OPTIMIZACIÓN\n",
    "\n",
    "| Modelo                 | Accuracy Train | Accuracy Test | F1-score | Recall | Precision | Ajuste      |\n",
    "|------------------------|---------------|--------------|----------|--------|-----------|-------------|\n",
    "| XGBoost Classifier 0   | 0.74          | 0.67         | 0.59     | 0.90   | 0.64      | Overfitting |\n",
    "| XGBoost Classifier 1   | 0.74          | 0.67         | 0.69     | 0.90   | 0.56      | Overfitting |\n",
    "| XGBoost (boosting) 0   | 0.74          | 0.67         | 0.59     | 0.90   | 0.64      | Overfitting |\n",
    "| XGBoost (boosting) 1   | 0.74          | 0.67         | 0.69     | 0.90   | 0.56      | Overfitting |\n",
    "\n",
    "---\n",
    "\n",
    "### MÉTRICAS DESPUÉS DE OPTIMIZACIÓN DE HIPERPARÁMETROS\n",
    "\n",
    "| Modelo                 | Accuracy Train | Accuracy Test | F1-score | Recall | Precision | Ajuste      |\n",
    "|------------------------|---------------|--------------|----------|--------|-----------|-------------|\n",
    "| XGBoost Classifier 0   | 0.82          | 0.71         | 0.66     | 0.90   | 0.77      | Overfitting |\n",
    "| XGBoost Classifier 1   | 0.82          | 0.71         | 0.62     | 0.52   | 0.77      | Overfitting |\n",
    "| XGBoost (boosting) 0   | 0.74          | 0.67         | 0.59     | 0.90   | 0.64      | Overfitting |\n",
    "| XGBoost (boosting) 1   | 0.74          | 0.67         | 0.69     | 0.90   | 0.56      | Overfitting |\n",
    "\n",
    "---\n",
    "\n",
    "### MÉTRICAS LUEGO DE OPTIMIZACIÓN DE UMBRAL\n",
    "\n",
    "| Modelo                 | Accuracy Train | Accuracy Test | F1-score | Recall | Precision | Ajuste      |\n",
    "|------------------------|---------------|--------------|----------|--------|-----------|-------------|\n",
    "| XGBoost Classifier 0   | 0.75          | 0.72         | 0.75     | 0.90   | 0.64      | Buen ajuste |\n",
    "| XGBoost Classifier 1   | 0.75          | 0.72         | 0.69     | 0.90   | 0.56      | Buen ajuste |\n",
    "| XGBoost (boosting) 0   | 0.64          | 0.63         | 0.69     | 0.90   | 0.56      | Buen ajuste |\n",
    "| XGBoost (boosting) 1   | 0.64          | 0.63         | 0.69     | 0.90   | 0.56      | Buen ajuste |\n",
    "\n",
    "---\n",
    "\n",
    "### CUADRO DE RANKING DE MODELOS (XGBoost)\n",
    "\n",
    "| Ranking | Modelo                          | Accuracy Train | Accuracy Test | Precision Test | Recall Test | F1 Test | AUC Test | Diferencia abs | Tipo de ajuste |\n",
    "|---------|---------------------------------|---------------|--------------|---------------|------------|---------|----------|----------------|----------------|\n",
    "| 1       | XGBoost Optuna (umbral óptimo)  | 0.750         | 0.72         | 0.638         | 0.902      | 0.748   | 0.810    | 0.030          | Buen ajuste    |\n",
    "| 2       | XGBoost Optuna                  | 0.820         | 0.71         | 0.774         | 0.522      | 0.623   | 0.810    | 0.110          | Overfitting    |\n",
    "| 3       | XGBoost Base                    | 0.744         | 0.67         | 0.783         | 0.391      | 0.522   | 0.750    | 0.074          | Overfitting    |\n",
    "\n",
    "---\n",
    "\n",
    "✅ El modelo seleccionado es: **XGBoost Classifier (Optuna + umbral óptimo)** con F1-score test = 0.748  \n",
    "Se selecciona el modelo con mayor F1-score en test, porque es la métrica más robusta para clasificación desbalanceada.\n"
   ]
  }
 ],
 "metadata": {
  "kernelspec": {
   "display_name": "venv",
   "language": "python",
   "name": "venv"
  },
  "language_info": {
   "codemirror_mode": {
    "name": "ipython",
    "version": 3
   },
   "file_extension": ".py",
   "mimetype": "text/x-python",
   "name": "python",
   "nbconvert_exporter": "python",
   "pygments_lexer": "ipython3",
   "version": "3.10.11"
  }
 },
 "nbformat": 4,
 "nbformat_minor": 5
}
