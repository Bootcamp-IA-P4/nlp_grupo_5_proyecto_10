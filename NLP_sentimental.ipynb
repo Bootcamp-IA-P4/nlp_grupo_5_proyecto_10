{
 "cells": [
  {
   "cell_type": "code",
   "execution_count": null,
   "metadata": {
    "id": "ZoYLHDpeBWzK"
   },
   "outputs": [],
   "source": [
    "#https://raw.githubusercontent.com/fintihlupik/NLP-sentimental/refs/heads/master/data/youtoxic_english_1000%20-%20youtoxic_english_1000.csv"
   ]
  },
  {
   "cell_type": "code",
   "execution_count": null,
   "metadata": {
    "id": "FccnQFCndJTs"
   },
   "outputs": [],
   "source": [
    "import numpy as np\n",
    "import pandas as pd\n",
    "import matplotlib.pyplot as plt\n",
    "import seaborn as sns\n",
    "import missingno as msno"
   ]
  },
  {
   "cell_type": "markdown",
   "metadata": {
    "id": "uxZK2kehFvvF"
   },
   "source": [
    "## Leer el Dataset"
   ]
  },
  {
   "cell_type": "code",
   "execution_count": null,
   "metadata": {
    "id": "9LVUGsBpdKxO"
   },
   "outputs": [],
   "source": [
    "df=pd.read_csv(\"https://raw.githubusercontent.com/fintihlupik/NLP-sentimental/refs/heads/master/data/youtoxic_english_1000%20-%20youtoxic_english_1000.csv\")"
   ]
  },
  {
   "cell_type": "code",
   "execution_count": null,
   "metadata": {
    "colab": {
     "base_uri": "https://localhost:8080/",
     "height": 712
    },
    "id": "u6RZ8TYhdUPZ",
    "outputId": "d5247587-ec44-40b1-a4c3-45230938800e"
   },
   "outputs": [],
   "source": [
    "df.head(10)"
   ]
  },
  {
   "cell_type": "code",
   "execution_count": null,
   "metadata": {
    "colab": {
     "base_uri": "https://localhost:8080/"
    },
    "id": "55xpvin-dZSX",
    "outputId": "2dcfa215-abb6-4912-b635-8194b0cd7536"
   },
   "outputs": [],
   "source": [
    "print('La forma del dataset es', df.shape)\n",
    "print('Rows duplicadas en el dataset :', df.duplicated().sum() )"
   ]
  },
  {
   "cell_type": "code",
   "execution_count": null,
   "metadata": {
    "colab": {
     "base_uri": "https://localhost:8080/"
    },
    "id": "f3VhuLndezqM",
    "outputId": "96845f07-53d2-4fa3-a0f0-fb5e22027d90"
   },
   "outputs": [],
   "source": [
    "df.info()"
   ]
  },
  {
   "cell_type": "code",
   "execution_count": null,
   "metadata": {
    "colab": {
     "base_uri": "https://localhost:8080/",
     "height": 175
    },
    "id": "4U2GFd02jbIE",
    "outputId": "e0dc4384-64dd-4505-be17-74c6625a8e9f"
   },
   "outputs": [],
   "source": [
    "df.describe()"
   ]
  },
  {
   "cell_type": "code",
   "execution_count": null,
   "metadata": {
    "id": "AkT8dRSBe-Bs"
   },
   "outputs": [],
   "source": [
    "%%capture\n",
    "!pip install ydata-profiling\n",
    "from ydata_profiling import ProfileReport\n",
    "from IPython.display import HTML # import the HTML object"
   ]
  },
  {
   "cell_type": "code",
   "execution_count": null,
   "metadata": {
    "colab": {
     "base_uri": "https://localhost:8080/",
     "height": 1000,
     "referenced_widgets": [
      "f0284c206f154fde841d18270f705f2d",
      "45078e3ca7b94c0d8073e68991978777",
      "5d5f054ec5fc40d5ba07cec0e74e278c",
      "7d2a422d15ce4779b8b106507b0bec53",
      "5dc3689f880b42a39c83c6922d4326b5",
      "5661898bfc5143ed9e2a7d236b9b4c37",
      "f54c19351dd44d5cb2fc5899a87ab20b",
      "d0ce2dac522a484a8859bdb38bc4e1dd",
      "cee0f1d0348644619066f861722173a2",
      "67f7efe56fc6432387c01484c42ca41f",
      "67aa160482634b91a17605c91c8bf82e",
      "8d17e9557c5d4e62b43e0341ab1f9568",
      "1f5ec42f9fc04db480be05f1dc4d6877",
      "06f3ddf51eaa40a08dada0a885b7b4dc",
      "38ef57feae45448ebb31b2b17fa3538d",
      "7c6efc7d5f5c4c10b73298a46c4c76b6",
      "6a42bfc42a234dd4adfa2c0d30dc58c5",
      "1d7aba2795ce43e591693a8ac839e562",
      "dabc693b70394d82ab494cf24f48c758",
      "5534bcb9d9e84e58b58d2cb30285adff",
      "01afb0be8a364321ba0e867d11928b15",
      "5b1c2dd35587475191b02d485b835222",
      "f91c15fce78a4a65aa658f6a99533fd6",
      "dd0d79396c7f44d0b0430e3a28ac6631",
      "222e6d78787940b6987adff32af555c3",
      "763017b38828408eae10df1aa63478bf",
      "cfa84790c8334f19bd0c3c3dee1373ce",
      "0290e34e5f6a4d34a083a5ebb6f41925",
      "9d4d301625c144b6a97725be05804c9f",
      "0d23f35db2a6466082740588b01dc09c",
      "414726d1912b4650ac0bcba66a5a4f3a",
      "3f9321e766c04789b0250c20c045745d",
      "8d4fa5254bd348ae9bb510c9e92b67c7",
      "b1a20417ece74a8aab726254d94ffb66",
      "3eb1ff265e1d4856935ca507d15b0b1c",
      "d27dafe96f824d189729ca0d0707bdd9",
      "c03c0f2434e64c8187f7ac6a60869f9b",
      "39d89644f14f4e7b963d22b3d2b99965",
      "bae4f23969f748a6ac115328c0a13a2b",
      "7f1c63866e224e3bb6aef7b413cd9ef1",
      "b62838e19d2d4311a3dc705a45a805c5",
      "a7033d141c7e4036884313694e9545cd",
      "15846c78746b43bdb5821a8279c13ab0",
      "aeec6c042dec427c8c61a30253a8eb67"
     ]
    },
    "id": "2JF8wm7dfA5J",
    "outputId": "4bb3557f-8ae7-470e-af99-6d2335bb5af1"
   },
   "outputs": [],
   "source": [
    "profile_change = ProfileReport(df,title=\"Youtube Comments. Profiling Report\", explorative=True,)\n",
    "profile_change.to_file(\"output_change.html\")\n",
    "HTML(filename='output_change.html')"
   ]
  },
  {
   "cell_type": "markdown",
   "metadata": {
    "id": "G2FNFSnjiMuf"
   },
   "source": [
    "Hallazgos:\n",
    "\n",
    "- No hay missing values.\n",
    "- Las columnas IsHomophobic y IsRadicalism tienen valor constante de \"False\"\n",
    "- El CommentId es un valor único.\n",
    "- Los comentarios corresponden únicamente a 13 videos de youtube (13 VideoId)\n",
    "- Las palabras más frecuentes son: and, the, a, to..\n",
    "- El dataset está bastante balanceado en respecto a IsToxic\n",
    "- El toxico está altamente relacionado con abusivo.\n",
    "- IsSexist tiene solo un registro Positivo.\n",
    "- Hay 997 comentarios diferentes, lo que sugiere que hay comentarios repetidos.\n",
    "\n"
   ]
  },
  {
   "cell_type": "markdown",
   "metadata": {
    "id": "jznrpKIGF5mV"
   },
   "source": [
    "### Vacios y repetidos"
   ]
  },
  {
   "cell_type": "code",
   "execution_count": null,
   "metadata": {
    "id": "t4UpObtgitIV"
   },
   "outputs": [],
   "source": [
    "df = df.drop(columns=['CommentId', 'IsHomophobic', 'IsRadicalism'])"
   ]
  },
  {
   "cell_type": "markdown",
   "metadata": {
    "id": "pVq-hz6owRJD"
   },
   "source": [
    "Borramos las columnas que no aportan valor"
   ]
  },
  {
   "cell_type": "code",
   "execution_count": null,
   "metadata": {
    "colab": {
     "base_uri": "https://localhost:8080/"
    },
    "id": "9jF3Vs3Ay_rs",
    "outputId": "cca88472-ba93-4499-85a6-6f2aaa9791b0"
   },
   "outputs": [],
   "source": [
    "print(\"Vacíos:\", df[df['Text'].str.strip() == ''].shape[0])"
   ]
  },
  {
   "cell_type": "markdown",
   "metadata": {
    "id": "eVczcT1OGPYo"
   },
   "source": [
    "No hay vacios"
   ]
  },
  {
   "cell_type": "code",
   "execution_count": null,
   "metadata": {
    "colab": {
     "base_uri": "https://localhost:8080/"
    },
    "id": "WbbxhGbfDxVE",
    "outputId": "7249f686-3301-45b6-a959-62c9d665eba9"
   },
   "outputs": [],
   "source": [
    "num_duplicates = df['Text'].duplicated().sum()\n",
    "print(f\"Número de comentarios duplicados: {num_duplicates}\")"
   ]
  },
  {
   "cell_type": "code",
   "execution_count": null,
   "metadata": {
    "colab": {
     "base_uri": "https://localhost:8080/"
    },
    "id": "JwRFKvPaD1HO",
    "outputId": "7d164ee6-7227-4c6c-9f2a-e5a386d644e8"
   },
   "outputs": [],
   "source": [
    "duplicates = df[df['Text'].duplicated(keep=False)]\n",
    "print(duplicates)"
   ]
  },
  {
   "cell_type": "code",
   "execution_count": null,
   "metadata": {
    "colab": {
     "base_uri": "https://localhost:8080/"
    },
    "id": "tCeRu1g-GlST",
    "outputId": "634bb177-a670-4ba2-b4dd-d5db7b314fa4"
   },
   "outputs": [],
   "source": [
    "# Crear una columna temporal con texto en minúsculas para detectar duplicados\n",
    "df['Text_lower'] = df['Text'].str.lower()\n",
    "\n",
    "# Buscar duplicados según texto en minúsculas\n",
    "duplicates_ignore_case = df[df['Text_lower'].duplicated(keep=False)]\n",
    "\n",
    "print(duplicates_ignore_case)\n"
   ]
  },
  {
   "cell_type": "markdown",
   "metadata": {
    "id": "vbKrD4fkwc04"
   },
   "source": [
    "### Distribución de clases (balanceo)"
   ]
  },
  {
   "cell_type": "code",
   "execution_count": null,
   "metadata": {
    "colab": {
     "base_uri": "https://localhost:8080/",
     "height": 541
    },
    "id": "oHG_ASerto-k",
    "outputId": "20b4954b-706e-4217-be3d-8ff26be1b75d"
   },
   "outputs": [],
   "source": [
    "sns.countplot(data=df, x='IsToxic')\n",
    "plt.title(\"Distribución de etiquetas\")\n",
    "plt.show()\n",
    "\n",
    "print(df['IsToxic'].value_counts(normalize=True))\n"
   ]
  },
  {
   "cell_type": "code",
   "execution_count": null,
   "metadata": {
    "colab": {
     "base_uri": "https://localhost:8080/"
    },
    "id": "8Ffpg9HCvgqu",
    "outputId": "ee7d5406-8910-4c41-ce91-bca4fcb26a43"
   },
   "outputs": [],
   "source": [
    "percentages = df['IsToxic'].value_counts(normalize=True) * 100\n",
    "percentages = percentages.round(2)\n",
    "print(percentages)"
   ]
  },
  {
   "cell_type": "markdown",
   "metadata": {
    "id": "FkaqGyJ5wyKj"
   },
   "source": [
    "Como vimos anteriormente el dataset está bien balanceado."
   ]
  },
  {
   "cell_type": "markdown",
   "metadata": {
    "id": "dmwu09NOzVMb"
   },
   "source": [
    "## Longitud de comentarios"
   ]
  },
  {
   "cell_type": "code",
   "execution_count": null,
   "metadata": {
    "colab": {
     "base_uri": "https://localhost:8080/"
    },
    "id": "dTkzBv5-t_RM",
    "outputId": "c869dc11-cdd3-41e5-d518-db29295d0470"
   },
   "outputs": [],
   "source": [
    "df['comment_length'] = df['Text'].apply(lambda x: len(str(x).split()))\n",
    "print(df['comment_length'].describe())"
   ]
  },
  {
   "cell_type": "code",
   "execution_count": null,
   "metadata": {
    "colab": {
     "base_uri": "https://localhost:8080/",
     "height": 473
    },
    "id": "FREGobRhuLJZ",
    "outputId": "79b33a22-2ea4-4d78-f86f-469d79b9eae2"
   },
   "outputs": [],
   "source": [
    "plt.hist(df['comment_length'], bins=20)\n",
    "plt.title(\"Distribución de longitud de los comentarios\")\n",
    "plt.xlabel(\"Número de palabras\")\n",
    "plt.ylabel(\"Frecuencia\")\n",
    "plt.show()"
   ]
  },
  {
   "cell_type": "markdown",
   "metadata": {
    "id": "8NF8R8HY5C8z"
   },
   "source": [
    "## Outliers"
   ]
  },
  {
   "cell_type": "code",
   "execution_count": null,
   "metadata": {
    "colab": {
     "base_uri": "https://localhost:8080/",
     "height": 473
    },
    "id": "fvvys3T6yzsB",
    "outputId": "e816cbf9-d89c-49f9-eaf1-c4190fbe7dfe"
   },
   "outputs": [],
   "source": [
    "sns.boxplot(x=df['comment_length'])\n",
    "plt.title(\"Longitud de comentarios - Detección de outliers\")\n",
    "plt.xlabel(\"Número de palabras\")\n",
    "plt.show()"
   ]
  },
  {
   "cell_type": "code",
   "execution_count": null,
   "metadata": {
    "colab": {
     "base_uri": "https://localhost:8080/"
    },
    "id": "5QAwXAjU1T4R",
    "outputId": "2f0ad845-ed41-46cb-b59e-ff18041e907d"
   },
   "outputs": [],
   "source": [
    "Q1 = df['comment_length'].quantile(0.25)\n",
    "Q3 = df['comment_length'].quantile(0.75)\n",
    "IQR = Q3 - Q1\n",
    "lower_bound = Q1 - 1.5 * IQR # (el lower bound da -36, no hay outliers cortos)\n",
    "upper_bound = Q3 + 1.5 * IQR # (84 - todos mayores a 84 son outliers)\n",
    "\n",
    "# Comentarios fuera del rango aceptable\n",
    "outliers = df[(df['comment_length'] < lower_bound) | (df['comment_length'] > upper_bound)]\n",
    "print(f\"Outliers detectados: {len(outliers)} comentarios\")\n",
    "\n",
    "# Porcentaje de outliers\n",
    "print(f\"{100 * len(outliers) / len(df):.2f}% del dataset son outliers de longitud\")"
   ]
  },
  {
   "cell_type": "markdown",
   "metadata": {
    "id": "tjKyFFBv8pXe"
   },
   "source": [
    "### Longitud por clase"
   ]
  },
  {
   "cell_type": "code",
   "execution_count": null,
   "metadata": {
    "colab": {
     "base_uri": "https://localhost:8080/",
     "height": 473
    },
    "id": "ghrhqI5X1tcC",
    "outputId": "8af9c7bc-28d7-4422-f4dc-37d331a30a09"
   },
   "outputs": [],
   "source": [
    "df['word_count'] = df['Text'].apply(lambda x: len(str(x).split()))\n",
    "sns.boxplot(x='IsToxic', y='word_count', data=df)\n",
    "plt.title(\"Distribución de longitud por clase\")\n",
    "plt.xlabel(\"¿Es tóxico?\")\n",
    "plt.ylabel(\"Número de palabras\")\n",
    "plt.show()"
   ]
  },
  {
   "cell_type": "markdown",
   "metadata": {
    "id": "F1Hd3M9480Z2"
   },
   "source": [
    "Vemos comentarios cortos"
   ]
  },
  {
   "cell_type": "code",
   "execution_count": null,
   "metadata": {
    "colab": {
     "base_uri": "https://localhost:8080/"
    },
    "id": "_fNOFpjl5cWe",
    "outputId": "5429b28c-6536-4ffc-89b1-7046716be161"
   },
   "outputs": [],
   "source": [
    "short_comments = df[df['comment_length'] < 3][['Text', 'comment_length', 'IsToxic']].sort_values(by='comment_length')\n",
    "print(short_comments)"
   ]
  },
  {
   "cell_type": "markdown",
   "metadata": {
    "id": "brcYlu2hKiXL"
   },
   "source": [
    "Los comentarios cortos son válidos."
   ]
  },
  {
   "cell_type": "markdown",
   "metadata": {
    "id": "Ny8flaQLK6qh"
   },
   "source": [
    "Vemos comentarios largos"
   ]
  },
  {
   "cell_type": "code",
   "execution_count": null,
   "metadata": {
    "colab": {
     "base_uri": "https://localhost:8080/"
    },
    "id": "R2o_in2A86OB",
    "outputId": "7abf0efb-b1fa-4e19-820c-96f978f694d0"
   },
   "outputs": [],
   "source": [
    "long_comments = df[df['comment_length'] > 150][['Text', 'comment_length', 'IsToxic']].sort_values(by='IsToxic')\n",
    "print(long_comments)"
   ]
  },
  {
   "cell_type": "markdown",
   "metadata": {
    "id": "U9eyi9TBKyQk"
   },
   "source": [
    "Los outliers son comentarios válidos."
   ]
  },
  {
   "cell_type": "code",
   "execution_count": null,
   "metadata": {
    "colab": {
     "base_uri": "https://localhost:8080/",
     "height": 706
    },
    "id": "3Ry3CezV_MSc",
    "outputId": "1f889816-5548-4192-b990-f68385e63eea"
   },
   "outputs": [],
   "source": [
    "# Definir los bins para los rangos de longitud\n",
    "bins = [0, 9, 19, 39, 100, 150, 815]\n",
    "labels = ['1-8', '9-18', '19-38', '39-99', '100-149', '150-815']\n",
    "\n",
    "# Crear una nueva columna con el rango de longitud\n",
    "df['length_range'] = pd.cut(df['comment_length'], bins=bins, labels=labels, right=False)\n",
    "\n",
    "# Agrupar por rango y calcular porcentaje de tóxicos\n",
    "toxicity_by_length = df.groupby('length_range')['IsToxic'].mean() * 100\n",
    "\n",
    "# Crear gráfica de barras\n",
    "plt.figure(figsize=(8,6))\n",
    "sns.barplot(x=toxicity_by_length.index, y=toxicity_by_length.values, palette='viridis')\n",
    "\n",
    "plt.title('Porcentaje de comentarios tóxicos por rango de longitud')\n",
    "plt.xlabel('Rango de longitud (número de palabras)')\n",
    "plt.ylabel('% de comentarios tóxicos')\n",
    "plt.ylim(0, 100)\n",
    "plt.show()\n"
   ]
  },
  {
   "cell_type": "markdown",
   "metadata": {
    "id": "EViD53qJCEr2"
   },
   "source": [
    "Como se puede ver la longitud del mensaje no parece ser un fuerte predictor de toxicidad del mensaje."
   ]
  },
  {
   "cell_type": "code",
   "execution_count": null,
   "metadata": {
    "colab": {
     "base_uri": "https://localhost:8080/",
     "height": 652
    },
    "id": "rKg7GLq8L7bB",
    "outputId": "3403b19f-6f43-4d14-9e51-b2f4a40ff2b0"
   },
   "outputs": [],
   "source": [
    "# Convertimos las columnas booleanas a bool (por si hay categorías)\n",
    "multi_tags = df.loc[:, 'IsAbusive':'IsReligiousHate'].astype(bool)\n",
    "\n",
    "tag_totals = multi_tags.sum().sort_values(ascending=False)\n",
    "\n",
    "plt.figure(figsize=(10,6))\n",
    "sns.barplot(x=tag_totals.values, y=tag_totals.index, palette='viridis')\n",
    "plt.title(\"Distribución de tipos de toxicidad\")\n",
    "plt.xlabel(\"Número de comentarios\")\n",
    "plt.ylabel(\"Etiqueta\")\n",
    "plt.show()\n"
   ]
  }
 ],
 "metadata": {
  "colab": {
   "provenance": []
  },
  "kernelspec": {
   "display_name": "Python 3",
   "name": "python3"
  },
  "language_info": {
   "name": "python"
  }
 },
 "nbformat": 4,
 "nbformat_minor": 0
}
