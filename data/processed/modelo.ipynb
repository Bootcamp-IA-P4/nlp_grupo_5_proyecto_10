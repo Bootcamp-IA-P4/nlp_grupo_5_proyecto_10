{
 "cells": [
  {
   "cell_type": "code",
   "execution_count": 1,
   "metadata": {},
   "outputs": [
    {
     "name": "stderr",
     "output_type": "stream",
     "text": [
      "c:\\Users\\Administrator\\Desktop\\proyecto10\\nlp_grupo_5_proyecto_10\\.venv\\Lib\\site-packages\\tqdm\\auto.py:21: TqdmWarning: IProgress not found. Please update jupyter and ipywidgets. See https://ipywidgets.readthedocs.io/en/stable/user_install.html\n",
      "  from .autonotebook import tqdm as notebook_tqdm\n"
     ]
    }
   ],
   "source": [
    "# Importar librerías mágicas\n",
    "import numpy as np\n",
    "import pandas as pd\n",
    "from sklearn.model_selection import StratifiedKFold, cross_val_predict\n",
    "from sklearn.naive_bayes import MultinomialNB\n",
    "from sklearn.metrics import precision_recall_curve, f1_score, classification_report\n",
    "import optuna\n",
    "import joblib\n",
    "import xgboost as xgb\n",
    "import os"
   ]
  },
  {
   "cell_type": "code",
   "execution_count": 2,
   "metadata": {},
   "outputs": [],
   "source": [
    "df=pd.read_csv(\"https://raw.githubusercontent.com/fintihlupik/NLP-sentimental/refs/heads/master/data/youtoxic_english_1000%20-%20youtoxic_english_1000.csv\")\n"
   ]
  },
  {
   "cell_type": "code",
   "execution_count": 7,
   "metadata": {},
   "outputs": [],
   "source": [
    "# Definir directorios\n",
    "BASE_DIR = os.path.abspath(os.path.join(os.getcwd(), '..'))\n",
    "data_dir = os.path.join(BASE_DIR, 'processed')  # Corregido\n",
    "models_dir = os.path.join(BASE_DIR, 'models')\n",
    "\n",
    "# Cargar datos vectorizados\n",
    "X_train = joblib.load(os.path.join(data_dir, 'X_train_tfidf.pkl'))\n",
    "X_test = joblib.load(os.path.join(data_dir, 'X_test_tfidf.pkl'))\n",
    "\n",
    "# Cargar etiquetas\n",
    "y_train = pd.read_csv(os.path.join(data_dir, 'y_train.csv'))['IsToxic']\n",
    "y_test = pd.read_csv(os.path.join(data_dir, 'y_test.csv'))['IsToxic']"
   ]
  },
  {
   "cell_type": "code",
   "execution_count": 9,
   "metadata": {},
   "outputs": [
    {
     "name": "stdout",
     "output_type": "stream",
     "text": [
      "F1-Score inicial: 0.7077\n",
      "Reporte de clasificación inicial:\n",
      "              precision    recall  f1-score   support\n",
      "\n",
      "           0       0.85      0.42      0.56       430\n",
      "           1       0.58      0.92      0.71       370\n",
      "\n",
      "    accuracy                           0.65       800\n",
      "   macro avg       0.72      0.67      0.64       800\n",
      "weighted avg       0.73      0.65      0.63       800\n",
      "\n"
     ]
    }
   ],
   "source": [
    "from sklearn.model_selection import StratifiedKFold, cross_val_predict\n",
    "from sklearn.naive_bayes import MultinomialNB\n",
    "from sklearn.metrics import precision_recall_curve, f1_score, classification_report\n",
    "\n",
    "# Configuración de validación cruzada estratificada\n",
    "skf = StratifiedKFold(n_splits=5, shuffle=True, random_state=42)\n",
    "\n",
    "# Modelo inicial con Naive Bayes\n",
    "nb_model = MultinomialNB()\n",
    "\n",
    "# Evaluación inicial con validación cruzada\n",
    "y_pred_proba = cross_val_predict(nb_model, X_train, y_train, cv=skf, method='predict_proba')[:, 1]\n",
    "\n",
    "# Calcular métricas de evaluación\n",
    "precision, recall, thresholds = precision_recall_curve(y_train, y_pred_proba)\n",
    "f1_scores = 2 * recall * precision / (recall + precision + 1e-6)\n",
    "\n",
    "# Imprimir resultados iniciales\n",
    "print(f\"F1-Score inicial: {max(f1_scores):.4f}\")\n",
    "\n",
    "# Reporte de clasificación inicial\n",
    "optimal_threshold = thresholds[np.argmax(f1_scores)]\n",
    "y_pred = (y_pred_proba >= optimal_threshold).astype(int)\n",
    "print(\"Reporte de clasificación inicial:\")\n",
    "print(classification_report(y_train, y_pred))"
   ]
  },
  {
   "cell_type": "code",
   "execution_count": 10,
   "metadata": {},
   "outputs": [
    {
     "name": "stderr",
     "output_type": "stream",
     "text": [
      "[I 2025-07-07 09:24:56,192] A new study created in memory with name: no-name-f44a447c-15fb-4358-a1cd-45cbcc54a904\n",
      "C:\\Users\\Administrator\\AppData\\Local\\Temp\\ipykernel_16688\\3703045900.py:6: FutureWarning: suggest_loguniform has been deprecated in v3.0.0. This feature will be removed in v6.0.0. See https://github.com/optuna/optuna/releases/tag/v3.0.0. Use suggest_float(..., log=True) instead.\n",
      "  alpha = trial.suggest_loguniform('alpha', 1e-3, 10.0)\n",
      "[I 2025-07-07 09:24:56,249] Trial 0 finished with value: 0.7105258335741194 and parameters: {'alpha': 0.13717825285703245}. Best is trial 0 with value: 0.7105258335741194.\n",
      "C:\\Users\\Administrator\\AppData\\Local\\Temp\\ipykernel_16688\\3703045900.py:6: FutureWarning: suggest_loguniform has been deprecated in v3.0.0. This feature will be removed in v6.0.0. See https://github.com/optuna/optuna/releases/tag/v3.0.0. Use suggest_float(..., log=True) instead.\n",
      "  alpha = trial.suggest_loguniform('alpha', 1e-3, 10.0)\n",
      "[I 2025-07-07 09:24:56,357] Trial 1 finished with value: 0.694312303800803 and parameters: {'alpha': 0.0042941311057093055}. Best is trial 0 with value: 0.7105258335741194.\n",
      "C:\\Users\\Administrator\\AppData\\Local\\Temp\\ipykernel_16688\\3703045900.py:6: FutureWarning: suggest_loguniform has been deprecated in v3.0.0. This feature will be removed in v6.0.0. See https://github.com/optuna/optuna/releases/tag/v3.0.0. Use suggest_float(..., log=True) instead.\n",
      "  alpha = trial.suggest_loguniform('alpha', 1e-3, 10.0)\n",
      "[I 2025-07-07 09:24:56,437] Trial 2 finished with value: 0.7082289294224295 and parameters: {'alpha': 8.896061500698343}. Best is trial 0 with value: 0.7105258335741194.\n",
      "C:\\Users\\Administrator\\AppData\\Local\\Temp\\ipykernel_16688\\3703045900.py:6: FutureWarning: suggest_loguniform has been deprecated in v3.0.0. This feature will be removed in v6.0.0. See https://github.com/optuna/optuna/releases/tag/v3.0.0. Use suggest_float(..., log=True) instead.\n",
      "  alpha = trial.suggest_loguniform('alpha', 1e-3, 10.0)\n",
      "[I 2025-07-07 09:24:56,597] Trial 3 finished with value: 0.7107433096326424 and parameters: {'alpha': 0.022042336779120618}. Best is trial 3 with value: 0.7107433096326424.\n",
      "C:\\Users\\Administrator\\AppData\\Local\\Temp\\ipykernel_16688\\3703045900.py:6: FutureWarning: suggest_loguniform has been deprecated in v3.0.0. This feature will be removed in v6.0.0. See https://github.com/optuna/optuna/releases/tag/v3.0.0. Use suggest_float(..., log=True) instead.\n",
      "  alpha = trial.suggest_loguniform('alpha', 1e-3, 10.0)\n",
      "[I 2025-07-07 09:24:56,649] Trial 4 finished with value: 0.7027702831694609 and parameters: {'alpha': 3.6356185115971367}. Best is trial 3 with value: 0.7107433096326424.\n",
      "C:\\Users\\Administrator\\AppData\\Local\\Temp\\ipykernel_16688\\3703045900.py:6: FutureWarning: suggest_loguniform has been deprecated in v3.0.0. This feature will be removed in v6.0.0. See https://github.com/optuna/optuna/releases/tag/v3.0.0. Use suggest_float(..., log=True) instead.\n",
      "  alpha = trial.suggest_loguniform('alpha', 1e-3, 10.0)\n",
      "[I 2025-07-07 09:24:56,706] Trial 5 finished with value: 0.7122297221794335 and parameters: {'alpha': 0.09313798453265755}. Best is trial 5 with value: 0.7122297221794335.\n",
      "C:\\Users\\Administrator\\AppData\\Local\\Temp\\ipykernel_16688\\3703045900.py:6: FutureWarning: suggest_loguniform has been deprecated in v3.0.0. This feature will be removed in v6.0.0. See https://github.com/optuna/optuna/releases/tag/v3.0.0. Use suggest_float(..., log=True) instead.\n",
      "  alpha = trial.suggest_loguniform('alpha', 1e-3, 10.0)\n",
      "[I 2025-07-07 09:24:56,752] Trial 6 finished with value: 0.7055895653720562 and parameters: {'alpha': 7.113855406289835}. Best is trial 5 with value: 0.7122297221794335.\n",
      "C:\\Users\\Administrator\\AppData\\Local\\Temp\\ipykernel_16688\\3703045900.py:6: FutureWarning: suggest_loguniform has been deprecated in v3.0.0. This feature will be removed in v6.0.0. See https://github.com/optuna/optuna/releases/tag/v3.0.0. Use suggest_float(..., log=True) instead.\n",
      "  alpha = trial.suggest_loguniform('alpha', 1e-3, 10.0)\n",
      "[I 2025-07-07 09:24:56,800] Trial 7 finished with value: 0.6921236118503638 and parameters: {'alpha': 0.004086572998707168}. Best is trial 5 with value: 0.7122297221794335.\n",
      "C:\\Users\\Administrator\\AppData\\Local\\Temp\\ipykernel_16688\\3703045900.py:6: FutureWarning: suggest_loguniform has been deprecated in v3.0.0. This feature will be removed in v6.0.0. See https://github.com/optuna/optuna/releases/tag/v3.0.0. Use suggest_float(..., log=True) instead.\n",
      "  alpha = trial.suggest_loguniform('alpha', 1e-3, 10.0)\n",
      "[I 2025-07-07 09:24:56,850] Trial 8 finished with value: 0.6802390274305277 and parameters: {'alpha': 0.001022726952653843}. Best is trial 5 with value: 0.7122297221794335.\n",
      "C:\\Users\\Administrator\\AppData\\Local\\Temp\\ipykernel_16688\\3703045900.py:6: FutureWarning: suggest_loguniform has been deprecated in v3.0.0. This feature will be removed in v6.0.0. See https://github.com/optuna/optuna/releases/tag/v3.0.0. Use suggest_float(..., log=True) instead.\n",
      "  alpha = trial.suggest_loguniform('alpha', 1e-3, 10.0)\n",
      "[I 2025-07-07 09:24:56,904] Trial 9 finished with value: 0.711642609284912 and parameters: {'alpha': 0.19018554898427037}. Best is trial 5 with value: 0.7122297221794335.\n",
      "C:\\Users\\Administrator\\AppData\\Local\\Temp\\ipykernel_16688\\3703045900.py:6: FutureWarning: suggest_loguniform has been deprecated in v3.0.0. This feature will be removed in v6.0.0. See https://github.com/optuna/optuna/releases/tag/v3.0.0. Use suggest_float(..., log=True) instead.\n",
      "  alpha = trial.suggest_loguniform('alpha', 1e-3, 10.0)\n",
      "[I 2025-07-07 09:24:57,079] Trial 10 finished with value: 0.7165254406245181 and parameters: {'alpha': 0.5163020204210761}. Best is trial 10 with value: 0.7165254406245181.\n",
      "C:\\Users\\Administrator\\AppData\\Local\\Temp\\ipykernel_16688\\3703045900.py:6: FutureWarning: suggest_loguniform has been deprecated in v3.0.0. This feature will be removed in v6.0.0. See https://github.com/optuna/optuna/releases/tag/v3.0.0. Use suggest_float(..., log=True) instead.\n",
      "  alpha = trial.suggest_loguniform('alpha', 1e-3, 10.0)\n",
      "[I 2025-07-07 09:24:57,299] Trial 11 finished with value: 0.7082855514001091 and parameters: {'alpha': 0.8441862319066562}. Best is trial 10 with value: 0.7165254406245181.\n",
      "C:\\Users\\Administrator\\AppData\\Local\\Temp\\ipykernel_16688\\3703045900.py:6: FutureWarning: suggest_loguniform has been deprecated in v3.0.0. This feature will be removed in v6.0.0. See https://github.com/optuna/optuna/releases/tag/v3.0.0. Use suggest_float(..., log=True) instead.\n",
      "  alpha = trial.suggest_loguniform('alpha', 1e-3, 10.0)\n",
      "[I 2025-07-07 09:24:57,378] Trial 12 finished with value: 0.7151510204594791 and parameters: {'alpha': 0.5966985051302669}. Best is trial 10 with value: 0.7165254406245181.\n",
      "C:\\Users\\Administrator\\AppData\\Local\\Temp\\ipykernel_16688\\3703045900.py:6: FutureWarning: suggest_loguniform has been deprecated in v3.0.0. This feature will be removed in v6.0.0. See https://github.com/optuna/optuna/releases/tag/v3.0.0. Use suggest_float(..., log=True) instead.\n",
      "  alpha = trial.suggest_loguniform('alpha', 1e-3, 10.0)\n",
      "[I 2025-07-07 09:24:57,451] Trial 13 finished with value: 0.7090904217462027 and parameters: {'alpha': 0.8112186299209811}. Best is trial 10 with value: 0.7165254406245181.\n",
      "C:\\Users\\Administrator\\AppData\\Local\\Temp\\ipykernel_16688\\3703045900.py:6: FutureWarning: suggest_loguniform has been deprecated in v3.0.0. This feature will be removed in v6.0.0. See https://github.com/optuna/optuna/releases/tag/v3.0.0. Use suggest_float(..., log=True) instead.\n",
      "  alpha = trial.suggest_loguniform('alpha', 1e-3, 10.0)\n",
      "[I 2025-07-07 09:24:57,510] Trial 14 finished with value: 0.7077239517787705 and parameters: {'alpha': 0.9964055946338338}. Best is trial 10 with value: 0.7165254406245181.\n",
      "C:\\Users\\Administrator\\AppData\\Local\\Temp\\ipykernel_16688\\3703045900.py:6: FutureWarning: suggest_loguniform has been deprecated in v3.0.0. This feature will be removed in v6.0.0. See https://github.com/optuna/optuna/releases/tag/v3.0.0. Use suggest_float(..., log=True) instead.\n",
      "  alpha = trial.suggest_loguniform('alpha', 1e-3, 10.0)\n",
      "[I 2025-07-07 09:24:57,566] Trial 15 finished with value: 0.7102132840598991 and parameters: {'alpha': 0.38307958210079046}. Best is trial 10 with value: 0.7165254406245181.\n",
      "C:\\Users\\Administrator\\AppData\\Local\\Temp\\ipykernel_16688\\3703045900.py:6: FutureWarning: suggest_loguniform has been deprecated in v3.0.0. This feature will be removed in v6.0.0. See https://github.com/optuna/optuna/releases/tag/v3.0.0. Use suggest_float(..., log=True) instead.\n",
      "  alpha = trial.suggest_loguniform('alpha', 1e-3, 10.0)\n",
      "[I 2025-07-07 09:24:57,625] Trial 16 finished with value: 0.7074025637360999 and parameters: {'alpha': 0.0292875747363208}. Best is trial 10 with value: 0.7165254406245181.\n",
      "C:\\Users\\Administrator\\AppData\\Local\\Temp\\ipykernel_16688\\3703045900.py:6: FutureWarning: suggest_loguniform has been deprecated in v3.0.0. This feature will be removed in v6.0.0. See https://github.com/optuna/optuna/releases/tag/v3.0.0. Use suggest_float(..., log=True) instead.\n",
      "  alpha = trial.suggest_loguniform('alpha', 1e-3, 10.0)\n",
      "[I 2025-07-07 09:24:57,688] Trial 17 finished with value: 0.7041279518246802 and parameters: {'alpha': 2.3819131011667776}. Best is trial 10 with value: 0.7165254406245181.\n",
      "C:\\Users\\Administrator\\AppData\\Local\\Temp\\ipykernel_16688\\3703045900.py:6: FutureWarning: suggest_loguniform has been deprecated in v3.0.0. This feature will be removed in v6.0.0. See https://github.com/optuna/optuna/releases/tag/v3.0.0. Use suggest_float(..., log=True) instead.\n",
      "  alpha = trial.suggest_loguniform('alpha', 1e-3, 10.0)\n",
      "[I 2025-07-07 09:24:57,747] Trial 18 finished with value: 0.7094510845821145 and parameters: {'alpha': 0.05207567541023857}. Best is trial 10 with value: 0.7165254406245181.\n",
      "C:\\Users\\Administrator\\AppData\\Local\\Temp\\ipykernel_16688\\3703045900.py:6: FutureWarning: suggest_loguniform has been deprecated in v3.0.0. This feature will be removed in v6.0.0. See https://github.com/optuna/optuna/releases/tag/v3.0.0. Use suggest_float(..., log=True) instead.\n",
      "  alpha = trial.suggest_loguniform('alpha', 1e-3, 10.0)\n",
      "[I 2025-07-07 09:24:57,807] Trial 19 finished with value: 0.7109106501538774 and parameters: {'alpha': 0.30931091698925967}. Best is trial 10 with value: 0.7165254406245181.\n",
      "C:\\Users\\Administrator\\AppData\\Local\\Temp\\ipykernel_16688\\3703045900.py:6: FutureWarning: suggest_loguniform has been deprecated in v3.0.0. This feature will be removed in v6.0.0. See https://github.com/optuna/optuna/releases/tag/v3.0.0. Use suggest_float(..., log=True) instead.\n",
      "  alpha = trial.suggest_loguniform('alpha', 1e-3, 10.0)\n",
      "[I 2025-07-07 09:24:57,900] Trial 20 finished with value: 0.7041279518246802 and parameters: {'alpha': 2.320731417794777}. Best is trial 10 with value: 0.7165254406245181.\n",
      "C:\\Users\\Administrator\\AppData\\Local\\Temp\\ipykernel_16688\\3703045900.py:6: FutureWarning: suggest_loguniform has been deprecated in v3.0.0. This feature will be removed in v6.0.0. See https://github.com/optuna/optuna/releases/tag/v3.0.0. Use suggest_float(..., log=True) instead.\n",
      "  alpha = trial.suggest_loguniform('alpha', 1e-3, 10.0)\n",
      "[I 2025-07-07 09:24:57,956] Trial 21 finished with value: 0.7101275654749886 and parameters: {'alpha': 0.0485370613154818}. Best is trial 10 with value: 0.7165254406245181.\n",
      "C:\\Users\\Administrator\\AppData\\Local\\Temp\\ipykernel_16688\\3703045900.py:6: FutureWarning: suggest_loguniform has been deprecated in v3.0.0. This feature will be removed in v6.0.0. See https://github.com/optuna/optuna/releases/tag/v3.0.0. Use suggest_float(..., log=True) instead.\n",
      "  alpha = trial.suggest_loguniform('alpha', 1e-3, 10.0)\n",
      "[I 2025-07-07 09:24:58,020] Trial 22 finished with value: 0.712588580972012 and parameters: {'alpha': 0.43771017474625673}. Best is trial 10 with value: 0.7165254406245181.\n",
      "C:\\Users\\Administrator\\AppData\\Local\\Temp\\ipykernel_16688\\3703045900.py:6: FutureWarning: suggest_loguniform has been deprecated in v3.0.0. This feature will be removed in v6.0.0. See https://github.com/optuna/optuna/releases/tag/v3.0.0. Use suggest_float(..., log=True) instead.\n",
      "  alpha = trial.suggest_loguniform('alpha', 1e-3, 10.0)\n",
      "[I 2025-07-07 09:24:58,078] Trial 23 finished with value: 0.7114247143667185 and parameters: {'alpha': 0.4050682808105557}. Best is trial 10 with value: 0.7165254406245181.\n",
      "C:\\Users\\Administrator\\AppData\\Local\\Temp\\ipykernel_16688\\3703045900.py:6: FutureWarning: suggest_loguniform has been deprecated in v3.0.0. This feature will be removed in v6.0.0. See https://github.com/optuna/optuna/releases/tag/v3.0.0. Use suggest_float(..., log=True) instead.\n",
      "  alpha = trial.suggest_loguniform('alpha', 1e-3, 10.0)\n",
      "[I 2025-07-07 09:24:58,120] Trial 24 finished with value: 0.7057629290653241 and parameters: {'alpha': 1.5332897436104216}. Best is trial 10 with value: 0.7165254406245181.\n",
      "C:\\Users\\Administrator\\AppData\\Local\\Temp\\ipykernel_16688\\3703045900.py:6: FutureWarning: suggest_loguniform has been deprecated in v3.0.0. This feature will be removed in v6.0.0. See https://github.com/optuna/optuna/releases/tag/v3.0.0. Use suggest_float(..., log=True) instead.\n",
      "  alpha = trial.suggest_loguniform('alpha', 1e-3, 10.0)\n",
      "[I 2025-07-07 09:24:58,243] Trial 25 finished with value: 0.7154857007103967 and parameters: {'alpha': 0.5777207495362894}. Best is trial 10 with value: 0.7165254406245181.\n",
      "C:\\Users\\Administrator\\AppData\\Local\\Temp\\ipykernel_16688\\3703045900.py:6: FutureWarning: suggest_loguniform has been deprecated in v3.0.0. This feature will be removed in v6.0.0. See https://github.com/optuna/optuna/releases/tag/v3.0.0. Use suggest_float(..., log=True) instead.\n",
      "  alpha = trial.suggest_loguniform('alpha', 1e-3, 10.0)\n",
      "[I 2025-07-07 09:24:58,314] Trial 26 finished with value: 0.7128708044119012 and parameters: {'alpha': 0.20981206583797554}. Best is trial 10 with value: 0.7165254406245181.\n",
      "C:\\Users\\Administrator\\AppData\\Local\\Temp\\ipykernel_16688\\3703045900.py:6: FutureWarning: suggest_loguniform has been deprecated in v3.0.0. This feature will be removed in v6.0.0. See https://github.com/optuna/optuna/releases/tag/v3.0.0. Use suggest_float(..., log=True) instead.\n",
      "  alpha = trial.suggest_loguniform('alpha', 1e-3, 10.0)\n",
      "[I 2025-07-07 09:24:58,403] Trial 27 finished with value: 0.7127527846736211 and parameters: {'alpha': 0.6607288294052232}. Best is trial 10 with value: 0.7165254406245181.\n",
      "C:\\Users\\Administrator\\AppData\\Local\\Temp\\ipykernel_16688\\3703045900.py:6: FutureWarning: suggest_loguniform has been deprecated in v3.0.0. This feature will be removed in v6.0.0. See https://github.com/optuna/optuna/releases/tag/v3.0.0. Use suggest_float(..., log=True) instead.\n",
      "  alpha = trial.suggest_loguniform('alpha', 1e-3, 10.0)\n",
      "[I 2025-07-07 09:24:58,464] Trial 28 finished with value: 0.7129181668806784 and parameters: {'alpha': 0.09193958054773517}. Best is trial 10 with value: 0.7165254406245181.\n",
      "C:\\Users\\Administrator\\AppData\\Local\\Temp\\ipykernel_16688\\3703045900.py:6: FutureWarning: suggest_loguniform has been deprecated in v3.0.0. This feature will be removed in v6.0.0. See https://github.com/optuna/optuna/releases/tag/v3.0.0. Use suggest_float(..., log=True) instead.\n",
      "  alpha = trial.suggest_loguniform('alpha', 1e-3, 10.0)\n",
      "[I 2025-07-07 09:24:58,511] Trial 29 finished with value: 0.7036565009727636 and parameters: {'alpha': 3.3487786452639274}. Best is trial 10 with value: 0.7165254406245181.\n",
      "C:\\Users\\Administrator\\AppData\\Local\\Temp\\ipykernel_16688\\3703045900.py:6: FutureWarning: suggest_loguniform has been deprecated in v3.0.0. This feature will be removed in v6.0.0. See https://github.com/optuna/optuna/releases/tag/v3.0.0. Use suggest_float(..., log=True) instead.\n",
      "  alpha = trial.suggest_loguniform('alpha', 1e-3, 10.0)\n",
      "[I 2025-07-07 09:24:58,564] Trial 30 finished with value: 0.7073469501514792 and parameters: {'alpha': 1.337425588848986}. Best is trial 10 with value: 0.7165254406245181.\n",
      "C:\\Users\\Administrator\\AppData\\Local\\Temp\\ipykernel_16688\\3703045900.py:6: FutureWarning: suggest_loguniform has been deprecated in v3.0.0. This feature will be removed in v6.0.0. See https://github.com/optuna/optuna/releases/tag/v3.0.0. Use suggest_float(..., log=True) instead.\n",
      "  alpha = trial.suggest_loguniform('alpha', 1e-3, 10.0)\n",
      "[I 2025-07-07 09:24:58,664] Trial 31 finished with value: 0.7122297221794335 and parameters: {'alpha': 0.10827333845427584}. Best is trial 10 with value: 0.7165254406245181.\n",
      "C:\\Users\\Administrator\\AppData\\Local\\Temp\\ipykernel_16688\\3703045900.py:6: FutureWarning: suggest_loguniform has been deprecated in v3.0.0. This feature will be removed in v6.0.0. See https://github.com/optuna/optuna/releases/tag/v3.0.0. Use suggest_float(..., log=True) instead.\n",
      "  alpha = trial.suggest_loguniform('alpha', 1e-3, 10.0)\n",
      "[I 2025-07-07 09:24:58,838] Trial 32 finished with value: 0.7124178194524825 and parameters: {'alpha': 0.1795341679231707}. Best is trial 10 with value: 0.7165254406245181.\n",
      "C:\\Users\\Administrator\\AppData\\Local\\Temp\\ipykernel_16688\\3703045900.py:6: FutureWarning: suggest_loguniform has been deprecated in v3.0.0. This feature will be removed in v6.0.0. See https://github.com/optuna/optuna/releases/tag/v3.0.0. Use suggest_float(..., log=True) instead.\n",
      "  alpha = trial.suggest_loguniform('alpha', 1e-3, 10.0)\n",
      "[I 2025-07-07 09:24:58,985] Trial 33 finished with value: 0.7113767519814103 and parameters: {'alpha': 0.0901543275008765}. Best is trial 10 with value: 0.7165254406245181.\n",
      "C:\\Users\\Administrator\\AppData\\Local\\Temp\\ipykernel_16688\\3703045900.py:6: FutureWarning: suggest_loguniform has been deprecated in v3.0.0. This feature will be removed in v6.0.0. See https://github.com/optuna/optuna/releases/tag/v3.0.0. Use suggest_float(..., log=True) instead.\n",
      "  alpha = trial.suggest_loguniform('alpha', 1e-3, 10.0)\n",
      "[I 2025-07-07 09:24:59,149] Trial 34 finished with value: 0.7043575765575346 and parameters: {'alpha': 0.010882380850940725}. Best is trial 10 with value: 0.7165254406245181.\n",
      "C:\\Users\\Administrator\\AppData\\Local\\Temp\\ipykernel_16688\\3703045900.py:6: FutureWarning: suggest_loguniform has been deprecated in v3.0.0. This feature will be removed in v6.0.0. See https://github.com/optuna/optuna/releases/tag/v3.0.0. Use suggest_float(..., log=True) instead.\n",
      "  alpha = trial.suggest_loguniform('alpha', 1e-3, 10.0)\n",
      "[I 2025-07-07 09:24:59,277] Trial 35 finished with value: 0.7130237993463601 and parameters: {'alpha': 0.25369441608092363}. Best is trial 10 with value: 0.7165254406245181.\n",
      "C:\\Users\\Administrator\\AppData\\Local\\Temp\\ipykernel_16688\\3703045900.py:6: FutureWarning: suggest_loguniform has been deprecated in v3.0.0. This feature will be removed in v6.0.0. See https://github.com/optuna/optuna/releases/tag/v3.0.0. Use suggest_float(..., log=True) instead.\n",
      "  alpha = trial.suggest_loguniform('alpha', 1e-3, 10.0)\n",
      "[I 2025-07-07 09:24:59,372] Trial 36 finished with value: 0.7151510204594791 and parameters: {'alpha': 0.5855964838720166}. Best is trial 10 with value: 0.7165254406245181.\n",
      "C:\\Users\\Administrator\\AppData\\Local\\Temp\\ipykernel_16688\\3703045900.py:6: FutureWarning: suggest_loguniform has been deprecated in v3.0.0. This feature will be removed in v6.0.0. See https://github.com/optuna/optuna/releases/tag/v3.0.0. Use suggest_float(..., log=True) instead.\n",
      "  alpha = trial.suggest_loguniform('alpha', 1e-3, 10.0)\n",
      "[I 2025-07-07 09:24:59,465] Trial 37 finished with value: 0.7127527846736211 and parameters: {'alpha': 0.6561231523211223}. Best is trial 10 with value: 0.7165254406245181.\n",
      "C:\\Users\\Administrator\\AppData\\Local\\Temp\\ipykernel_16688\\3703045900.py:6: FutureWarning: suggest_loguniform has been deprecated in v3.0.0. This feature will be removed in v6.0.0. See https://github.com/optuna/optuna/releases/tag/v3.0.0. Use suggest_float(..., log=True) instead.\n",
      "  alpha = trial.suggest_loguniform('alpha', 1e-3, 10.0)\n",
      "[I 2025-07-07 09:24:59,604] Trial 38 finished with value: 0.7072238365295603 and parameters: {'alpha': 1.691479515402807}. Best is trial 10 with value: 0.7165254406245181.\n",
      "C:\\Users\\Administrator\\AppData\\Local\\Temp\\ipykernel_16688\\3703045900.py:6: FutureWarning: suggest_loguniform has been deprecated in v3.0.0. This feature will be removed in v6.0.0. See https://github.com/optuna/optuna/releases/tag/v3.0.0. Use suggest_float(..., log=True) instead.\n",
      "  alpha = trial.suggest_loguniform('alpha', 1e-3, 10.0)\n",
      "[I 2025-07-07 09:24:59,705] Trial 39 finished with value: 0.705595612032007 and parameters: {'alpha': 5.384320732402722}. Best is trial 10 with value: 0.7165254406245181.\n",
      "C:\\Users\\Administrator\\AppData\\Local\\Temp\\ipykernel_16688\\3703045900.py:6: FutureWarning: suggest_loguniform has been deprecated in v3.0.0. This feature will be removed in v6.0.0. See https://github.com/optuna/optuna/releases/tag/v3.0.0. Use suggest_float(..., log=True) instead.\n",
      "  alpha = trial.suggest_loguniform('alpha', 1e-3, 10.0)\n",
      "[I 2025-07-07 09:24:59,827] Trial 40 finished with value: 0.7144558985913431 and parameters: {'alpha': 0.4500812977438112}. Best is trial 10 with value: 0.7165254406245181.\n",
      "C:\\Users\\Administrator\\AppData\\Local\\Temp\\ipykernel_16688\\3703045900.py:6: FutureWarning: suggest_loguniform has been deprecated in v3.0.0. This feature will be removed in v6.0.0. See https://github.com/optuna/optuna/releases/tag/v3.0.0. Use suggest_float(..., log=True) instead.\n",
      "  alpha = trial.suggest_loguniform('alpha', 1e-3, 10.0)\n",
      "[I 2025-07-07 09:24:59,904] Trial 41 finished with value: 0.7165254406245181 and parameters: {'alpha': 0.5545165758525208}. Best is trial 10 with value: 0.7165254406245181.\n",
      "C:\\Users\\Administrator\\AppData\\Local\\Temp\\ipykernel_16688\\3703045900.py:6: FutureWarning: suggest_loguniform has been deprecated in v3.0.0. This feature will be removed in v6.0.0. See https://github.com/optuna/optuna/releases/tag/v3.0.0. Use suggest_float(..., log=True) instead.\n",
      "  alpha = trial.suggest_loguniform('alpha', 1e-3, 10.0)\n",
      "[I 2025-07-07 09:24:59,992] Trial 42 finished with value: 0.7082289294224295 and parameters: {'alpha': 1.2708004443274163}. Best is trial 10 with value: 0.7165254406245181.\n",
      "C:\\Users\\Administrator\\AppData\\Local\\Temp\\ipykernel_16688\\3703045900.py:6: FutureWarning: suggest_loguniform has been deprecated in v3.0.0. This feature will be removed in v6.0.0. See https://github.com/optuna/optuna/releases/tag/v3.0.0. Use suggest_float(..., log=True) instead.\n",
      "  alpha = trial.suggest_loguniform('alpha', 1e-3, 10.0)\n",
      "[I 2025-07-07 09:25:00,068] Trial 43 finished with value: 0.7151510204594791 and parameters: {'alpha': 0.5982367581445361}. Best is trial 10 with value: 0.7165254406245181.\n",
      "C:\\Users\\Administrator\\AppData\\Local\\Temp\\ipykernel_16688\\3703045900.py:6: FutureWarning: suggest_loguniform has been deprecated in v3.0.0. This feature will be removed in v6.0.0. See https://github.com/optuna/optuna/releases/tag/v3.0.0. Use suggest_float(..., log=True) instead.\n",
      "  alpha = trial.suggest_loguniform('alpha', 1e-3, 10.0)\n",
      "[I 2025-07-07 09:25:00,216] Trial 44 finished with value: 0.709045959314315 and parameters: {'alpha': 0.14724769907395624}. Best is trial 10 with value: 0.7165254406245181.\n",
      "C:\\Users\\Administrator\\AppData\\Local\\Temp\\ipykernel_16688\\3703045900.py:6: FutureWarning: suggest_loguniform has been deprecated in v3.0.0. This feature will be removed in v6.0.0. See https://github.com/optuna/optuna/releases/tag/v3.0.0. Use suggest_float(..., log=True) instead.\n",
      "  alpha = trial.suggest_loguniform('alpha', 1e-3, 10.0)\n",
      "[I 2025-07-07 09:25:00,304] Trial 45 finished with value: 0.7077239517787705 and parameters: {'alpha': 0.9619041969642576}. Best is trial 10 with value: 0.7165254406245181.\n",
      "C:\\Users\\Administrator\\AppData\\Local\\Temp\\ipykernel_16688\\3703045900.py:6: FutureWarning: suggest_loguniform has been deprecated in v3.0.0. This feature will be removed in v6.0.0. See https://github.com/optuna/optuna/releases/tag/v3.0.0. Use suggest_float(..., log=True) instead.\n",
      "  alpha = trial.suggest_loguniform('alpha', 1e-3, 10.0)\n",
      "[I 2025-07-07 09:25:00,392] Trial 46 finished with value: 0.7123888969871714 and parameters: {'alpha': 0.25901368515344053}. Best is trial 10 with value: 0.7165254406245181.\n",
      "C:\\Users\\Administrator\\AppData\\Local\\Temp\\ipykernel_16688\\3703045900.py:6: FutureWarning: suggest_loguniform has been deprecated in v3.0.0. This feature will be removed in v6.0.0. See https://github.com/optuna/optuna/releases/tag/v3.0.0. Use suggest_float(..., log=True) instead.\n",
      "  alpha = trial.suggest_loguniform('alpha', 1e-3, 10.0)\n",
      "[I 2025-07-07 09:25:00,451] Trial 47 finished with value: 0.7045449567011987 and parameters: {'alpha': 4.064996820601177}. Best is trial 10 with value: 0.7165254406245181.\n",
      "C:\\Users\\Administrator\\AppData\\Local\\Temp\\ipykernel_16688\\3703045900.py:6: FutureWarning: suggest_loguniform has been deprecated in v3.0.0. This feature will be removed in v6.0.0. See https://github.com/optuna/optuna/releases/tag/v3.0.0. Use suggest_float(..., log=True) instead.\n",
      "  alpha = trial.suggest_loguniform('alpha', 1e-3, 10.0)\n",
      "[I 2025-07-07 09:25:00,509] Trial 48 finished with value: 0.7049995028128506 and parameters: {'alpha': 2.1125123495474045}. Best is trial 10 with value: 0.7165254406245181.\n",
      "C:\\Users\\Administrator\\AppData\\Local\\Temp\\ipykernel_16688\\3703045900.py:6: FutureWarning: suggest_loguniform has been deprecated in v3.0.0. This feature will be removed in v6.0.0. See https://github.com/optuna/optuna/releases/tag/v3.0.0. Use suggest_float(..., log=True) instead.\n",
      "  alpha = trial.suggest_loguniform('alpha', 1e-3, 10.0)\n",
      "[I 2025-07-07 09:25:00,556] Trial 49 finished with value: 0.7082289294224295 and parameters: {'alpha': 8.80276689180123}. Best is trial 10 with value: 0.7165254406245181.\n"
     ]
    },
    {
     "name": "stdout",
     "output_type": "stream",
     "text": [
      "Mejor valor de alpha: 0.5163020204210761\n"
     ]
    }
   ],
   "source": [
    "import optuna\n",
    "\n",
    "# Definir función objetivo para Optuna\n",
    "def objective(trial):\n",
    "    # Sugerir un valor para el hiperparámetro alpha\n",
    "    alpha = trial.suggest_loguniform('alpha', 1e-3, 10.0)\n",
    "    \n",
    "    # Crear el modelo con el valor de alpha sugerido\n",
    "    model = MultinomialNB(alpha=alpha)\n",
    "    \n",
    "    # Validación cruzada estratificada\n",
    "    y_pred_proba = cross_val_predict(model, X_train, y_train, cv=skf, method='predict_proba')[:, 1]\n",
    "    \n",
    "    # Calcular F1-score\n",
    "    precision, recall, thresholds = precision_recall_curve(y_train, y_pred_proba)\n",
    "    f1_scores = 2 * recall * precision / (recall + precision + 1e-6)\n",
    "    \n",
    "    # Retornar el mejor F1-score\n",
    "    return max(f1_scores)\n",
    "\n",
    "# Crear un estudio de Optuna\n",
    "study = optuna.create_study(direction='maximize')\n",
    "study.optimize(objective, n_trials=50)  # Ejecutar 50 pruebas\n",
    "\n",
    "# Obtener el mejor hiperparámetro\n",
    "best_alpha = study.best_params['alpha']\n",
    "print(f\"Mejor valor de alpha: {best_alpha}\")"
   ]
  },
  {
   "cell_type": "code",
   "execution_count": 11,
   "metadata": {},
   "outputs": [
    {
     "name": "stdout",
     "output_type": "stream",
     "text": [
      "Mejor umbral para F1-score: 0.4861\n",
      "Reporte de clasificación con umbral optimizado:\n",
      "              precision    recall  f1-score   support\n",
      "\n",
      "           0       0.98      0.96      0.97       430\n",
      "           1       0.96      0.98      0.97       370\n",
      "\n",
      "    accuracy                           0.97       800\n",
      "   macro avg       0.97      0.97      0.97       800\n",
      "weighted avg       0.97      0.97      0.97       800\n",
      "\n"
     ]
    }
   ],
   "source": [
    "# Entrenar el modelo con el mejor valor de alpha encontrado por Optuna\n",
    "best_model = MultinomialNB(alpha=best_alpha)\n",
    "best_model.fit(X_train, y_train)\n",
    "\n",
    "# Obtener las probabilidades predichas en el conjunto de entrenamiento\n",
    "y_pred_proba = best_model.predict_proba(X_train)[:, 1]\n",
    "\n",
    "# Calcular precisión, recall y F1-score para diferentes umbrales\n",
    "precision, recall, thresholds = precision_recall_curve(y_train, y_pred_proba)\n",
    "f1_scores = 2 * recall * precision / (recall + precision + 1e-6)\n",
    "\n",
    "# Encontrar el umbral que maximiza el F1-score\n",
    "optimal_threshold = thresholds[np.argmax(f1_scores)]\n",
    "print(f\"Mejor umbral para F1-score: {optimal_threshold:.4f}\")\n",
    "\n",
    "# Evaluar el modelo con el umbral óptimo\n",
    "y_pred_optimal = (y_pred_proba >= optimal_threshold).astype(int)\n",
    "print(\"Reporte de clasificación con umbral optimizado:\")\n",
    "print(classification_report(y_train, y_pred_optimal))"
   ]
  },
  {
   "cell_type": "code",
   "execution_count": 12,
   "metadata": {},
   "outputs": [
    {
     "name": "stdout",
     "output_type": "stream",
     "text": [
      "Comparación de métricas:\n",
      "Modelo                        F1-Score       Accuracy       \n",
      "Modelo inicial (umbral 0.5)   0.9392         0.9450         \n",
      "Modelo optimizado (umbral 0.5)0.9609         0.9637         \n",
      "Modelo optimizado (mejor umbral)0.9665         0.9688         \n"
     ]
    }
   ],
   "source": [
    "from sklearn.metrics import accuracy_score\n",
    "\n",
    "# 1. Evaluación con el modelo inicial (umbral predeterminado de 0.5)\n",
    "initial_model = MultinomialNB()\n",
    "initial_model.fit(X_train, y_train)\n",
    "y_pred_initial = initial_model.predict(X_train)\n",
    "initial_f1 = f1_score(y_train, y_pred_initial)\n",
    "initial_accuracy = accuracy_score(y_train, y_pred_initial)\n",
    "\n",
    "# 2. Evaluación con el modelo optimizado (mejor alpha, umbral predeterminado de 0.5)\n",
    "optimized_model = MultinomialNB(alpha=best_alpha)\n",
    "optimized_model.fit(X_train, y_train)\n",
    "y_pred_optimized = optimized_model.predict(X_train)\n",
    "optimized_f1 = f1_score(y_train, y_pred_optimized)\n",
    "optimized_accuracy = accuracy_score(y_train, y_pred_optimized)\n",
    "\n",
    "# 3. Evaluación con el modelo optimizado y el mejor umbral\n",
    "y_pred_best_threshold = (y_pred_proba >= optimal_threshold).astype(int)\n",
    "best_threshold_f1 = f1_score(y_train, y_pred_best_threshold)\n",
    "best_threshold_accuracy = accuracy_score(y_train, y_pred_best_threshold)\n",
    "\n",
    "# Comparación de métricas\n",
    "print(\"Comparación de métricas:\")\n",
    "print(f\"{'Modelo':<30}{'F1-Score':<15}{'Accuracy':<15}\")\n",
    "print(f\"{'Modelo inicial (umbral 0.5)':<30}{initial_f1:<15.4f}{initial_accuracy:<15.4f}\")\n",
    "print(f\"{'Modelo optimizado (umbral 0.5)':<30}{optimized_f1:<15.4f}{optimized_accuracy:<15.4f}\")\n",
    "print(f\"{'Modelo optimizado (mejor umbral)':<30}{best_threshold_f1:<15.4f}{best_threshold_accuracy:<15.4f}\")"
   ]
  },
  {
   "cell_type": "code",
   "execution_count": 13,
   "metadata": {},
   "outputs": [
    {
     "name": "stdout",
     "output_type": "stream",
     "text": [
      "El modelo optimizado con el mejor umbral fue seleccionado como el mejor modelo.\n",
      "Reporte de clasificación en el conjunto de prueba:\n",
      "              precision    recall  f1-score   support\n",
      "\n",
      "           0       0.67      0.70      0.69       108\n",
      "           1       0.63      0.60      0.61        92\n",
      "\n",
      "    accuracy                           0.66       200\n",
      "   macro avg       0.65      0.65      0.65       200\n",
      "weighted avg       0.65      0.66      0.65       200\n",
      "\n"
     ]
    }
   ],
   "source": [
    "# Selección del mejor modelo según F1-score\n",
    "if best_threshold_f1 >= max(initial_f1, optimized_f1):\n",
    "    final_model = optimized_model\n",
    "    final_threshold = optimal_threshold\n",
    "    print(\"El modelo optimizado con el mejor umbral fue seleccionado como el mejor modelo.\")\n",
    "else:\n",
    "    final_model = optimized_model if optimized_f1 > initial_f1 else initial_model\n",
    "    final_threshold = 0.5\n",
    "    print(\"El modelo optimizado o inicial con umbral 0.5 fue seleccionado como el mejor modelo.\")\n",
    "\n",
    "# Entrenar el modelo final con los datos de entrenamiento completos\n",
    "final_model.fit(X_train, y_train)\n",
    "\n",
    "# Evaluar el modelo final en el conjunto de prueba\n",
    "y_test_proba = final_model.predict_proba(X_test)[:, 1]\n",
    "y_test_pred = (y_test_proba >= final_threshold).astype(int)\n",
    "\n",
    "# Reporte de clasificación en el conjunto de prueba\n",
    "from sklearn.metrics import classification_report\n",
    "print(\"Reporte de clasificación en el conjunto de prueba:\")\n",
    "print(classification_report(y_test, y_test_pred))"
   ]
  },
  {
   "cell_type": "code",
   "execution_count": 23,
   "metadata": {},
   "outputs": [
    {
     "name": "stdout",
     "output_type": "stream",
     "text": [
      "Ruta de models_dir: c:\\Users\\Administrator\\Desktop\\proyecto10\\nlp_grupo_5_proyecto_10\\data\\models\n"
     ]
    }
   ],
   "source": [
    "models_dir = os.path.join(BASE_DIR, 'models')\n",
    "print(f\"Ruta de models_dir: {models_dir}\")"
   ]
  },
  {
   "cell_type": "code",
   "execution_count": 25,
   "metadata": {},
   "outputs": [
    {
     "name": "stdout",
     "output_type": "stream",
     "text": [
      "Carpeta 'models' creada en: c:\\Users\\Administrator\\Desktop\\proyecto10\\nlp_grupo_5_proyecto_10\\data\\models\n",
      "Modelo guardado en: c:\\Users\\Administrator\\Desktop\\proyecto10\\nlp_grupo_5_proyecto_10\\data\\models\\naive_bayes_best_model.pkl\n"
     ]
    }
   ],
   "source": [
    "import joblib\n",
    "import os\n",
    "\n",
    "# Ajustar la ruta de models_dir para que apunte fuera de 'data'\n",
    "models_dir = os.path.join(BASE_DIR, 'models')  # Asegúrate de que apunta al directorio correcto\n",
    "\n",
    "# Crear la carpeta 'models' si no existe\n",
    "if not os.path.exists(models_dir):\n",
    "    os.makedirs(models_dir)\n",
    "    print(f\"Carpeta 'models' creada en: {models_dir}\")\n",
    "else:\n",
    "    print(f\"Usando la carpeta existente: {models_dir}\")\n",
    "\n",
    "# Ruta para guardar el modelo\n",
    "model_path = os.path.join(models_dir, 'naive_bayes_best_model.pkl')\n",
    "\n",
    "# Guardar el modelo final\n",
    "joblib.dump(final_model, model_path)\n",
    "print(f\"Modelo guardado en: {model_path}\")"
   ]
  }
 ],
 "metadata": {
  "kernelspec": {
   "display_name": ".venv",
   "language": "python",
   "name": "python3"
  },
  "language_info": {
   "codemirror_mode": {
    "name": "ipython",
    "version": 3
   },
   "file_extension": ".py",
   "mimetype": "text/x-python",
   "name": "python",
   "nbconvert_exporter": "python",
   "pygments_lexer": "ipython3",
   "version": "3.13.1"
  }
 },
 "nbformat": 4,
 "nbformat_minor": 2
}
